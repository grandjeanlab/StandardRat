{
 "cells": [
  {
   "attachments": {},
   "cell_type": "markdown",
   "metadata": {},
   "source": [
    "# Data conversion with BIDScoin\n",
    "\n",
    "When working with data from a non Bruker system, such as MR Solutions and Phillips, BIDScoin (https://bidscoin.readthedocs.io/en/stable/) is an alternative for the converion of the data from Raw to .nii and into BIDS format. "
   ]
  },
  {
   "attachments": {},
   "cell_type": "markdown",
   "metadata": {},
   "source": [
    "Installation can be done with pip install (for dependancies check the read-the-docs (https://bidscoin.readthedocs.io/en/stable/installation.html))"
   ]
  },
  {
   "cell_type": "code",
   "execution_count": null,
   "metadata": {},
   "outputs": [],
   "source": [
    "#!/usr/bin/env bash\n",
    "\n",
    "pip install bidscoin"
   ]
  },
  {
   "attachments": {},
   "cell_type": "markdown",
   "metadata": {},
   "source": [
    "Alternatively, BIDScoin offers an apptainer container image as well. So if this is installed (see RABIES.ipynb) then the following is also possible (running through apptainer uses different commands, see https://bidscoin.readthedocs.io/en/stable/installation.html)"
   ]
  },
  {
   "cell_type": "code",
   "execution_count": null,
   "metadata": {},
   "outputs": [],
   "source": [
    "sudo apptainer build bidscoin.sif apptainer.def"
   ]
  },
  {
   "attachments": {},
   "cell_type": "markdown",
   "metadata": {},
   "source": [
    "Data preparation. BIDScoin requires that the source data repository is organized according to a subject/[session]/data structure. Dicomsort is an easy command line tool to do this."
   ]
  },
  {
   "cell_type": "code",
   "execution_count": null,
   "metadata": {},
   "outputs": [],
   "source": [
    "dicomsort /PATH/TO/DICOMFILES\n",
    "    #/PATH/TO/DICOMFILES: The root folder containing the dicomsource/[sub/][ses/] dicomfiles or the DICOMDIR file"
   ]
  },
  {
   "attachments": {},
   "cell_type": "markdown",
   "metadata": {},
   "source": [
    "With a sufficiently organized source data folder, the data conversion to BIDS can be performed by running the (1a) the bidsmapper, (1b) the bidseditor and (2) the bidscoiner command-line tools. The bidsmapper starts by building a map of the different kind of data types (scans) in your source dataset, which you can then edit with the bidseditor. The bidscoiner reads this so-called study bidsmap, which tells it how exactly to convert (“coin”) the source data into a BIDS data repository. For more detailed information see https://bidscoin.readthedocs.io/en/stable/workflow.html "
   ]
  },
  {
   "cell_type": "code",
   "execution_count": null,
   "metadata": {},
   "outputs": [],
   "source": [
    "bidsmapper.py /PATH/TO/DICOMFILES /PATH/TO/BIDS/FOLDER\n",
    "    #/PATH/TO/DICOMFILES: The study root folder containing the raw source data folders\n",
    "    #/PATH/TO/BIDS/FOLDER: The destination folder with the (future) bids data and the bidsfolder/code/bidscoin/bidsmap.yaml output file"
   ]
  },
  {
   "cell_type": "code",
   "execution_count": null,
   "metadata": {},
   "outputs": [],
   "source": [
    "bidseditor.py /PATH/TO/BIDS/FOLDER"
   ]
  },
  {
   "cell_type": "code",
   "execution_count": null,
   "metadata": {},
   "outputs": [],
   "source": [
    "bidscoiner.py /PATH/TO/DICOMFILES /PATH/TO/BIDS/FOLDER"
   ]
  }
 ],
 "metadata": {
  "language_info": {
   "name": "python"
  },
  "orig_nbformat": 4
 },
 "nbformat": 4,
 "nbformat_minor": 2
}
