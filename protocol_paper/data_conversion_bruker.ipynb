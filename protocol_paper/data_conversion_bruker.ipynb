{
 "cells": [
  {
   "attachments": {},
   "cell_type": "markdown",
   "metadata": {},
   "source": [
    "# Data conversion with BrkRaw\n",
    "\n",
    "When working with Bruker Raw MRI data brkraw (https://brkraw.github.io/) can be used to convert the raw data into nii files and automatically format it into BIDS.  \n",
    "\n",
    "Installation can be done with pip install. THIS REQUIRES Python==3.7. Check intall page for dependancies (https://brkraw.github.io/docs/gs_inst.html) "
   ]
  },
  {
   "cell_type": "code",
   "execution_count": null,
   "metadata": {},
   "outputs": [],
   "source": [
    "#move to working directory\n",
    "cd /PATH/TO/WORKING/DIRECTORY"
   ]
  },
  {
   "cell_type": "code",
   "execution_count": null,
   "metadata": {},
   "outputs": [],
   "source": [
    "pip install bruker"
   ]
  },
  {
   "attachments": {},
   "cell_type": "markdown",
   "metadata": {},
   "source": [
    "First create a BIDS helper file. This excel sheet will help with easy conversion of only the needed scans. "
   ]
  },
  {
   "cell_type": "code",
   "execution_count": null,
   "metadata": {},
   "outputs": [],
   "source": [
    "brkraw bids_helper /PATH/TO/RAW/DATA /BIDS_DATASHEET.xlsx"
   ]
  },
  {
   "attachments": {},
   "cell_type": "markdown",
   "metadata": {},
   "source": [
    "After this you can use the BIDS helper file to convert raw data to nii/BIDS"
   ]
  },
  {
   "cell_type": "code",
   "execution_count": null,
   "metadata": {},
   "outputs": [],
   "source": [
    "brkraw bids_convert /PATH/TO/RAW/DATA /BIDS_DATASHEET.xlsx -o /PATH/TO/BIDS/FOLDER"
   ]
  }
 ],
 "metadata": {
  "language_info": {
   "name": "python"
  },
  "orig_nbformat": 4
 },
 "nbformat": 4,
 "nbformat_minor": 2
}
