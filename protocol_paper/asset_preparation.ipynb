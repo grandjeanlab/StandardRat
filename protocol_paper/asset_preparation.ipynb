{
 "cells": [
  {
   "cell_type": "code",
   "execution_count": null,
   "metadata": {},
   "outputs": [],
   "source": [
    "#move to working directory\n",
    "cd /PATH/TO/WORKING/DIRECTORY\n",
    "\n",
    "\n",
    "# Create a template directory where the template will be stored. \n",
    "mkdir -p templates\n",
    "\n",
    "\n",
    "# the following requires NITRC login credentials\n",
    "wget https://www.nitrc.org/frs/download.php/11708/SIGMA_Wistar_Rat_Brain_TemplatesAndAtlases_Version1.1.zip -O templates/tmp.zip\n",
    "unzip -d templates/ templates/tmp.zip\n",
    "rm templates/tmp.zip \n",
    "\n",
    "\n",
    "#binarized versions of the WM and CSF templates are needed, which can be generated using FSL\n",
    "fslmath templates/SIGMA_InVivo_WM.nii.gz -thr 0.95 -bin templates/SIGMA_InVivo_WM_bin.nii.gz\n",
    "fslmath templates/SIGMA_InVivo_CSF.nii.gz -thr 0.95 -bin templates/SIGMA_InVivo_CSF_bin.nii.gz\n",
    "\n",
    "#build RABIES using apptainer\n",
    "apptainer pull rabies.sif docker://gabdesgreg/rabies:0.4.8\n",
    "\n",
    "\n",
    "#Or docker\n",
    "docker pull gabdesgreg/rabies:0.4.8\n",
    "\n",
    "\n",
    "# download the ICA maps from Grandjean et al 2023\n",
    "wget https://github.com/grandjeanlab/MultiRat/blob/master/assets/nifti/canica_resting_state.nii.gz -O templates/canica_resting_state.nii.gz\n"
   ]
  }
 ],
 "metadata": {
  "language_info": {
   "name": "python"
  },
  "orig_nbformat": 4
 },
 "nbformat": 4,
 "nbformat_minor": 2
}
