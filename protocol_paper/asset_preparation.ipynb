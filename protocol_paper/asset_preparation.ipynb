{
 "cells": [
  {
   "cell_type": "code",
   "execution_count": null,
   "metadata": {},
   "outputs": [],
   "source": [
    "#!/usr/bin/env bash\n",
    "\n",
    "#move to working directory\n",
    "cd /PATH/TO/WORKING/DIRECTORY\n",
    "\n",
    "\n",
    "#create a template directory where the template will be stored. \n",
    "mkdir -p templates\n",
    "\n",
    "\n",
    "#download the SIGMA template\n",
    "wget https://zenodo.org/records/7829128/files/sigma_wistar_rat_brain_templatesandatlases_version_2.0.zip?download=1 -O templates/tmp.zip\n",
    "unzip -d templates/ templates/tmp.zip\n",
    "rm templates/tmp.zip\n",
    "\n",
    "\n",
    "#copy needed templates and delete others\n",
    "cp -a /templates/sigma_wistar_rat_brain_templatesandatlases_version_2.0/SIGMA_Rat_Anatomical_Imaging/SIGMA_Rat_Anatomical_InVivo_Template/anatomy/. /templates/\n",
    "cp -a /templates/sigma_wistar_rat_brain_templatesandatlases_version_2.0/SIGMA_Rat_Brain_Atlases/SIGMA_Anatomical_Atlas/InVivo_Atlas/. /templates/\n",
    "rm -rf templates/sigma_wistar_rat_brain_templatesandatlases_version_2.0\n",
    "\n",
    "\n",
    "#binarized versions of the WM and CSF SIGMA masks are needed, which can be generated using FSL\n",
    "fslmaths templates/SIGMA_InVivo_Anatomical_Brain_wm.nii.gz -thr 0.95 -bin templates/SIGMA_InVivo_Anatomical_Brain_wm_bin.nii.gz\n",
    "fslmaths templates/SIGMA_InVivo_Anatomical_Brain_csf.nii.gz -thr 0.95 -bin templates/SIGMA_InVivo_Anatomical_Brain_csf_bin.nii.gz\n",
    "\n",
    "\n",
    "#build RABIES using apptainer\n",
    "apptainer pull rabies.sif docker://gabdesgreg/rabies:0.4.8\n",
    "\n",
    "\n",
    "#Or docker\n",
    "docker pull gabdesgreg/rabies:0.4.8\n",
    "\n",
    "\n",
    "#download the ICA maps from Grandjean et al 2023\n",
    "wget https://github.com/grandjeanlab/MultiRat/blob/master/assets/nifti/canica_resting_state.nii.gz -O templates/canica_resting_state.nii.gz\n"
   ]
  }
 ],
 "metadata": {
  "language_info": {
   "name": "python"
  },
  "orig_nbformat": 4
 },
 "nbformat": 4,
 "nbformat_minor": 2
}
