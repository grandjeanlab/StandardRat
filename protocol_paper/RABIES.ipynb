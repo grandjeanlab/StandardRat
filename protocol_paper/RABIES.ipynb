{
 "cells": [
  {
   "attachments": {},
   "cell_type": "markdown",
   "metadata": {},
   "source": [
    "# RABIES installation and usage"
   ]
  },
  {
   "attachments": {},
   "cell_type": "markdown",
   "metadata": {},
   "source": [
    "Here we specify the code to run RABIES on a test dataset from the StandardRat dataset (subject groups 300800-3008009 and 301400-3001409).\n",
    "\n",
    "For running rabies preproccessing, default settings were used for all except to following arguments:\n",
    "--TR 1 --commonspace_reg masking=false,brain_extraction=false,template_registration=SyN,fast_commonspace=true --commonspace_resampling 0.3x0.3x0.3\n",
    "\n",
    "If based on QC-report this was unstatisfactory, the following arguments were tried iteretiveley: \n",
    "1. --anat_autobox --bold_autobox \n",
    "2. Option 1 + --anat_inho_cor method=N4_reg,otsu_thresh=2,multiotsu=false --bold_inho_cor method=N4_reg,otsu_thresh=2,multiotsu=false \n",
    "3. Option 2 + --bold2anat_coreg masking=false,brain_extraction=false,registration=Rigid"
   ]
  },
  {
   "attachments": {},
   "cell_type": "markdown",
   "metadata": {},
   "source": [
    "For using RABIES, it is recommended to build an apptainer or docker container. See https://apptainer.org/docs/user/latest/quick_start.html for the instruction to install apptainer or https://docs.docker.com/engine/install/ to install docker. For the latest version of RABIES, see https://hub.docker.com/r/gabdesgreg/rabies/tags"
   ]
  },
  {
   "cell_type": "code",
   "execution_count": null,
   "metadata": {},
   "outputs": [],
   "source": [
    "#!/usr/bin/env bash\n",
    "\n",
    "#install RABIES using apptainer\n",
    "apptainer pull rabies.sif docker://gabdesgreg/rabies:0.4.8\n",
    "\n",
    "#Or docker\n",
    "docker pull gabdesgreg/rabies:0.4.8"
   ]
  },
  {
   "attachments": {},
   "cell_type": "markdown",
   "metadata": {},
   "source": [
    "The following code can be used to run rabies using the default settings with apptainer. This code will immediately run all three steps, namely preprocessing, confound correction and analysis. For the analysis we have added some of the essentials, such as creating a whole brain functional connectivity matrix and dual-regression independent component analysis\n",
    "\n",
    "The -B flag is used to mount folders. For input folders, such as input_bids, :ro is added to only give RABIES reading permission. This prevents data being changed or removed. For output folders :ro is not added, as RABIES needs writing permission for these."
   ]
  },
  {
   "cell_type": "code",
   "execution_count": null,
   "metadata": {},
   "outputs": [],
   "source": [
    "#move to working directory\n",
    "cd /PATH/TO/WORKING/DIRECTORY\n",
    "\n",
    "#specify bids, e.g. /home/youruser/documents/BIDS\n",
    "bids=/PATH/TO/BIDS/FOLDER\n",
    "\n",
    "#specify RABIES container, e.g. /home/youruser/documents/RABIES.sif. This will depend on where rabies is pulled during the asset preparation\n",
    "rabies=PATH/TO/RABIES/CONTAINER\n",
    "\n",
    "#specify rat templates and prior ICA maps (RABIES defaults are mouse templates)\n",
    "anat_template=/templates/SIGMA_InVivo_Anatomical_Brain_template.nii.gz\n",
    "brain_mask=/templates/SIGMA_InVivo_Anatomical_Brain_mask.nii.gz\n",
    "WM_mask=/templates/SIGMA_InVivo_Anatomical_wm_bin.nii.gz\n",
    "CSF_mask=templates/SIGMA_InVivo_Anatomical_csf_bin.nii.gz\n",
    "labels=/templates/SIGMA_InVivoAnatomical_Brain_Atlas.nii.gz\n",
    "vascular_mask=/templates/SIGMA_InVivo_Anatomical_csf_bin.nii.gz\n",
    "ICA_prior=/templates/canica_resting_state.nii.gz\n",
    "\n",
    "#these functions will create empty directories for the preprocessed, confound, and analysis files. \n",
    "mkdir -p func_preprocess\n",
    "mkdir -p func_confound\n",
    "mkdir -p func_analysis\n",
    "\n",
    "#apptainer call to run the preprocess step for RABIES\n",
    "apptainer run -B $bids:/input_bids:ro -B templates:/templates:ro -B $func_preprocess:/preprocess_outputs/ $rabies -p MultiProc preprocess /input_bids/ /preprocess_outputs/ --anat_template $anat_template --brain_mask $brain_mask --WM_mask $WM_mask --CSF_mask $CSF_mask --labels $labels --vascular_mask $vascular_mask --TR 1 --commonspace_reg masking=false,brain_extraction=false,template_registration=SyN,fast_commonspace=false --commonspace_resampling 0.3x0.3x0.3\n",
    "   \n",
    "#apptainer call to run the confound removal step for RABIES\n",
    "apptainer run -B $bids:/input_bids:ro -B templates:/templates:ro -B $func_preprocess:/preprocess_outputs/ -B $func_confound:/confound_correction_outputs/ $rabies confound_correction /preprocess_outputs/ /confound_correction_outputs/ --TR 1 --highpass 0.01 --smoothing_filter 0.5 --lowpass 0.1 --conf_list global_signal mot_6\n",
    "\n",
    "#apptainer call to run the analysis step for RABIES\n",
    "apptainer run -B $bids:/input_bids:ro -B templates:/templates:ro -B $func_preprocess:/preprocess_outputs/ -B $func_confound:/confound_correction_outputs/ -B $func_analysis:/analysis_outputs/ $rabies -p MultiProc analysis /confound_correction_outputs/ /analysis_outputs/ --data_diagnosis --prior_maps $ICA_prior --FC_matrix --DR_ICA --group_ica apply=true,dim=10,random_seed=1 --prior_bold_idx 0 1 3 5 7 8 9 10 11 15 17 18 --prior_confound_idx 2 4 6 12 13 14 16 19\n"
   ]
  },
  {
   "attachments": {},
   "cell_type": "markdown",
   "metadata": {},
   "source": [
    "And here is a similar example, but now for Docker. Here the -B is replaced by -v and some extra parameters (--it --rm) are needed"
   ]
  },
  {
   "cell_type": "code",
   "execution_count": null,
   "metadata": {},
   "outputs": [],
   "source": [
    "#move to working directory\n",
    "cd /PATH/TO/WORKING/DIRECTORY\n",
    "\n",
    "#specify bids, e.g. /home/youruser/documents/BIDS\n",
    "bids=/PATH/TO/BIDS/FOLDER\n",
    "\n",
    "#specify RABIES container, e.g. /home/youruser/documents/RABIES.sif. This will depend on where rabies is pulled during the asset preparation\n",
    "rabies=PATH/TO/RABIES/CONTAINER\n",
    "\n",
    "#specify rat templates and prior ICA maps (RABIES defaults are mouse templates)\n",
    "anat_template=templates/SIGMA_InVivo_Brain_Template.nii\n",
    "brain_mask=templates/SIGMA_InVivo_Brain_Mask.nii\n",
    "WM_mask=templates/SIGMA_InVivo_WM_bin.nii.gz\n",
    "CSF_mask=templates/SIGMA_InVivo_CSF_bin.nii.gz\n",
    "labels=templates/SIGMA_Anatomical_Brain_Atlas.nii\n",
    "vascular_mask=templates/SIGMA_InVivo_CSF_bin.nii.gz\n",
    "ICA_prior=templates/canica_resting_state.nii.gz\n",
    "\n",
    "#these functions will create empty directories for the preprocessed, confound, and analysis files. \n",
    "mkdir -p func_preprocess\n",
    "mkdir -p func_confound\n",
    "mkdir -p func_analysis\n",
    "\n",
    "#docker call to run the preprocess step for RABIES\n",
    "docker run -it --rm -v $bids:/input_BIDS:ro -v templates:/templates:ro -v $func_preprocess:/preprocess_outputs/ $rabies -p MultiProc preprocess /input_BIDS/ /preprocess_outputs/ --anat_template $anat_template --brain_mask $brain_mask --WM_mask $WM_mask --CSF_mask $CSF_mask --labels $labels --vascular_mask $vascular_mask --TR 1 --commonspace_reg masking=false,brain_extraction=false,template_registration=SyN,fast_commonspace=false --commonspace_resampling 0.3x0.3x0.3\n",
    "    \n",
    "#docker call to run the confound removal step for RABIES\n",
    "docker run -it --rm -v $bids:/input_bids:ro -v templates:/templates:ro -v $func_preprocess:/preprocess_outputs/ -v $func_confound:/confound_correction_outputs/ $rabies -p MultiProc confound_correction /preprocess_outputs/ /confound_correction_outputs/ --TR 1 --highpass 0.01 --smoothing_filter 0.5 --lowpass 0.1 --conf_list global_signal mot_6\n",
    "\n",
    "#docker call to run the analysis step for RABIES\n",
    "docker run -it --rm -v $bids:/input_bids:ro -v templates:/templates:ro -v $func_preprocess:/preprocess_outputs/ -v $func_confound:/confound_correction_outputs/ -v $func_analysis:/analysis_outputs/ $rabies -p MultiProc analysis /confound_correction_outputs/ /analysis_outputs/ --data_diagnosis --prior_maps $ICA_prior --FC_matrix --DR_ICA --group_ica apply=true,dim=10,random_seed=1 --prior_bold_idx 0 1 3 5 7 8 9 10 11 15 17 18 --prior_confound_idx 2 4 6 12 13 14 16 19"
   ]
  }
 ],
 "metadata": {
  "language_info": {
   "name": "python"
  },
  "orig_nbformat": 4
 },
 "nbformat": 4,
 "nbformat_minor": 2
}
