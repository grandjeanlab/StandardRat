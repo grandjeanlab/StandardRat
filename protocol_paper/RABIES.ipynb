{
 "cells": [
  {
   "attachments": {},
   "cell_type": "markdown",
   "metadata": {},
   "source": [
    "# RABIES installation and usage"
   ]
  },
  {
   "attachments": {},
   "cell_type": "markdown",
   "metadata": {},
   "source": [
    "Here we specify the code to run RABIES on a test dataset from the StandardRat dataset (subject groups 300800-3008009 and 301400-3001409).\n",
    "\n",
    "For running rabies preproccessing, default settings were used for all except to following arguments:\n",
    "--TR 1 --commonspace_reg masking=false,brain_extraction=false,template_registration=SyN,fast_commonspace=true --commonspace_resampling 0.3x0.3x0.3\n",
    "\n",
    "If based on QC-report this was unstatisfactory, the following arguments were tried iteretiveley: \n",
    "1. --anat_autobox --bold_autobox \n",
    "2. Option 1 + --anat_inho_cor method=N4_reg,otsu_thresh=2,multiotsu=false --bold_inho_cor method=N4_reg,otsu_thresh=2,multiotsu=false \n",
    "3. Option 2 + --bold2anat_coreg masking=false,brain_extraction=false,registration=Rigid"
   ]
  },
  {
   "attachments": {},
   "cell_type": "markdown",
   "metadata": {},
   "source": [
    "For using RABIES, it is recommended to build an apptainer container. See https://apptainer.org/docs/user/latest/quick_start.html for the instruction to install apptainer. For the latest version of RABIES, see https://hub.docker.com/r/gabdesgreg/rabies/tags"
   ]
  },
  {
   "cell_type": "code",
   "execution_count": null,
   "metadata": {},
   "outputs": [],
   "source": [
    "apptainer pull rabies.sif docker://gabdesgreg/rabies:0.4.8"
   ]
  },
  {
   "attachments": {},
   "cell_type": "markdown",
   "metadata": {},
   "source": [
    "The following code can be used to run rabies using the default settings. This code will immediately run all three steps, namely preprocessing, confound correction and analysis. For the analysis we have added some of the essentials, such as creating a whole brain functional connectivity matrix and dual-regression independent component analysis "
   ]
  },
  {
   "cell_type": "code",
   "execution_count": null,
   "metadata": {},
   "outputs": [],
   "source": [
    "# move to working directory\n",
    "cd $(\"PATH_TO_WORKING_DIRECTORY\")\n",
    "\n",
    "#specify bids folder\n",
    "bids=\"PATH_TO_BIDS_FOLDER\"\n",
    "\n",
    "#specify RABIES container\n",
    "rabies=\"PATH_TO_RABIES_CONTAINER\"\n",
    "\n",
    "#specify rat templates and prior ICA maps (RABIES defaults are mouse templates, SIMGA templates are provided)\n",
    "anat_template=\"/templates/SIGMA_InVivo_Brain_Template.nii\" \n",
    "brain_mask=\"/templates/SIGMA_InVivo_Brain_Mask.nii\" \n",
    "WM_mask=\"/templates/SIGMA_InVivo_WM_bin.nii.gz\" \n",
    "CSF_mask=\"/templates/SIGMA_InVivo_CSF_bin.nii.gz\"\n",
    "labels=\"/templates/SIGMA_Anatomical_Brain_Atlas_rs.nii\" \n",
    "vascular_mask=\"/templates/SIGMA_InVivo_CSF_bin.nii.gz\" \n",
    "ICA_prior=\"/templates/canica_resting_state_clean.nii.gz\"\n",
    "\n",
    "mkdir -p func_preprocess\n",
    "mkdir -p func_confound\n",
    "mkdir -p func_analysis\n",
    "\n",
    "    #preprocess\n",
    "apptainer run -B $bids:/input_bids:ro -B /func_preprocess:/preprocess_outputs/ $rabies -p MultiProc preprocess /input_bids/ /preprocess_outputs/ --anat_template $anat_template --brain_mask $brain_mask --WM_mask $WM_mask --CSF_mask $CSF_mask --labels $labels --vascular_mask $vascular_mask --TR 1 --commonspace_reg masking=false,brain_extraction=false,template_registration=SyN,fast_commonspace=false --commonspace_resampling 0.3x0.3x0.3 \n",
    "    \n",
    "    #confound\n",
    "apptainer run -B $bids:/input_bids:ro -B /func_preprocess:/preprocess_outputs/ -B /func_confound:/confound_correction_outputs/ $rabies confound_correction /preprocess_outputs/ /confound_correction_outputs/ --TR 1\n",
    "\n",
    "    #analysis\n",
    "apptainer run -B $bids:/input_bids:ro -B /func_preprocess:/preprocess_outputs/ -B /func_confound:/confound_correction_outputs/ -B /func_analysis:/analysis_outputs/ $rabies -p MultiProc analysis /confound_correction_outputs/ /analysis_outputs/ --data_diagnosis --prior_maps $ICA_prior --FC_matrix --DR_ICA --group_ica apply=true,dim=10,random_seed=1\n"
   ]
  }
 ],
 "metadata": {
  "language_info": {
   "name": "python"
  },
  "orig_nbformat": 4
 },
 "nbformat": 4,
 "nbformat_minor": 2
}
